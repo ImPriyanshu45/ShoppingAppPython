{
 "cells": [
  {
   "cell_type": "code",
   "execution_count": 41,
   "id": "f86bb18b-8a05-4635-be46-c71beb181bc7",
   "metadata": {},
   "outputs": [],
   "source": [
    "class Catalog:\n",
    "    def __init__(self):\n",
    "        self.catalog = {\n",
    "            'Boots': [\n",
    "                {\n",
    "                    'product_id': 'B001',\n",
    "                    'name': 'Leather Boots',\n",
    "                    'category_id': 'C001',\n",
    "                    'price': 120.00\n",
    "                },\n",
    "                {\n",
    "                    'product_id': 'B002',\n",
    "                    'name': 'Hiking Boots',\n",
    "                    'category_id': 'C001',\n",
    "                    'price': 85.00\n",
    "                }\n",
    "            ],\n",
    "            'Coats': [\n",
    "                {\n",
    "                    'product_id': 'C001',\n",
    "                    'name': 'Winter Coat',\n",
    "                    'category_id': 'C002',\n",
    "                    'price': 150.00\n",
    "                },\n",
    "                {\n",
    "                    'product_id': 'C002',\n",
    "                    'name': 'Rain Coat',\n",
    "                    'category_id': 'C002',\n",
    "                    'price': 95.00\n",
    "                }\n",
    "            ],\n",
    "            'Jackets': [\n",
    "                {\n",
    "                    'product_id': 'J001',\n",
    "                    'name': 'Bomber Jacket',\n",
    "                    'category_id': 'C003',\n",
    "                    'price': 110.00\n",
    "                },\n",
    "                {\n",
    "                    'product_id': 'J002',\n",
    "                    'name': 'Denim Jacket',\n",
    "                    'category_id': 'C003',\n",
    "                    'price': 75.00\n",
    "                }\n",
    "            ],\n",
    "            'Caps': [\n",
    "                {\n",
    "                    'product_id': 'CAP001',\n",
    "                    'name': 'Baseball Cap',\n",
    "                    'category_id': 'C004',\n",
    "                    'price': 20.00\n",
    "                },\n",
    "                {\n",
    "                    'product_id': 'CAP002',\n",
    "                    'name': 'Beanie',\n",
    "                    'category_id': 'C004',\n",
    "                    'price': 15.00\n",
    "                }\n",
    "            ]\n",
    "        }\n",
    "\n",
    "    def get_product(self, product_id):\n",
    "        for products in self.catalog.values():\n",
    "            for product in products:\n",
    "                if product['product_id'] == product_id:\n",
    "                    return product\n",
    "        return None\n",
    "\n",
    "    def view_products(self):\n",
    "        for category, products in self.catalog.items():\n",
    "            print(f\"Category: {category}\")\n",
    "            for product in products:\n",
    "                print(f\"  Product ID: {product['product_id']}\")\n",
    "                print(f\"  Name: {product['name']}\")\n",
    "                print(f\"  Category ID: {product['category_id']}\")\n",
    "                print(f\"  Price: ${product['price']:.2f}\")\n",
    "                print()\n",
    "\n",
    "    def add_product(self, category, product):\n",
    "        if category not in self.catalog:\n",
    "            self.catalog[category] = []\n",
    "        self.catalog[category].append(product)\n",
    "\n",
    "    def remove_product(self, product_id):\n",
    "        for category, products in self.catalog.items():\n",
    "            for product in products:\n",
    "                if product['product_id'] == product_id:\n",
    "                    products.remove(product)\n",
    "                    if not products:\n",
    "                        del self.catalog[category]\n",
    "                    return True\n",
    "        return False\n",
    "\n",
    "    def update_product(self, product_id, **kwargs):\n",
    "        for products in self.catalog.values():\n",
    "            for product in products:\n",
    "                if product['product_id'] == product_id:\n",
    "                    for key, value in kwargs.items():\n",
    "                        if key in product:\n",
    "                            product[key] = value\n",
    "                    return True\n",
    "        return False\n"
   ]
  },
  {
   "cell_type": "code",
   "execution_count": 43,
   "id": "21a5f966-b547-43c9-9bfa-352451a21462",
   "metadata": {},
   "outputs": [],
   "source": [
    "class User:\n",
    "    def __init__(self, catalog):\n",
    "        self.session_id = None\n",
    "        self.cart = {}\n",
    "        self.catalog = catalog\n",
    "        self.database_user = {'user1': 'password123', 'user2': 'password456', 'user3': 'password789'}\n",
    "\n",
    "    def login(self):\n",
    "        print(\"Welcome to Demo Market Place\")\n",
    "        self.username = input('Please enter username: ')\n",
    "        \n",
    "        if self.username not in self.database_user:\n",
    "            print('Invalid username')\n",
    "            return\n",
    "\n",
    "        self.password = input('Please enter password: ')\n",
    "\n",
    "        if self.password == self.database_user[self.username]:\n",
    "            self.session_id = generate_session_id()\n",
    "            print(\"Successful Login. Your session ID is:\", self.session_id)\n",
    "            self.show_menu()\n",
    "        else:\n",
    "            print('Incorrect password')\n",
    "\n",
    "    def show_menu(self):\n",
    "        while True:\n",
    "            print(\"\\n1) View Products\")\n",
    "            print(\"2) View Cart\")\n",
    "            print(\"3) Add to Cart\")\n",
    "            print(\"4) Remove from Cart\")\n",
    "            print(\"5) Checkout\")\n",
    "            print(\"6) Logout\")\n",
    "            \n",
    "            choice = input(\"Choose an action: \")\n",
    "            if choice == '1':\n",
    "                self.catalog.view_products()\n",
    "            elif choice == '2':\n",
    "                self.view_cart()\n",
    "            elif choice == '3':\n",
    "                product_id = input(\"Enter product ID to add: \")\n",
    "                quantity = int(input(\"Enter quantity: \"))\n",
    "                self.add_to_cart(product_id, quantity)\n",
    "            elif choice == '4':\n",
    "                product_id = input(\"Enter product ID to remove: \")\n",
    "                self.remove_from_cart(product_id)\n",
    "            elif choice == '5':\n",
    "                payment_option = input(\"Choose payment option (Net banking/PayPal/UPI): \")\n",
    "                self.checkout(payment_option)\n",
    "            elif choice == '6':\n",
    "                print(\"Logged out.\")\n",
    "                break\n",
    "            else:\n",
    "                print(\"Invalid choice!\")\n",
    "\n",
    "    def view_cart(self):\n",
    "        if self.cart:\n",
    "            print(\"Items in your cart:\")\n",
    "            for product_id, quantity in self.cart.items():\n",
    "                product = self.catalog.get_product(product_id)\n",
    "                if product:\n",
    "                    print(f\"  Product ID: {product_id}\")\n",
    "                    print(f\"  Name: {product['name']}\")\n",
    "                    print(f\"  Price: ${product['price']:.2f}\")\n",
    "                    print(f\"  Quantity: {quantity}\")\n",
    "                else:\n",
    "                    print(f\"Product ID {product_id} not found in catalog.\")\n",
    "        else:\n",
    "            print(\"Your cart is empty.\")\n",
    "\n",
    "    def add_to_cart(self, product_id, quantity):\n",
    "        if quantity <= 0:\n",
    "            print(\"Quantity must be greater than zero.\")\n",
    "            return\n",
    "\n",
    "        if self.catalog.get_product(product_id) is None:\n",
    "            print(\"Product ID does not exist.\")\n",
    "            return\n",
    "\n",
    "        if product_id in self.cart:\n",
    "            self.cart[product_id] += quantity\n",
    "        else:\n",
    "            self.cart[product_id] = quantity\n",
    "        print(f\"Added {quantity} of product ID {product_id} to cart.\")\n",
    "        self.view_cart()\n",
    "\n",
    "    def remove_from_cart(self, product_id):\n",
    "        if product_id in self.cart:\n",
    "            del self.cart[product_id]\n",
    "            print(f\"Removed product ID {product_id} from cart.\")\n",
    "        else:\n",
    "            print(f\"Product ID {product_id} not found in cart.\")\n",
    "\n",
    "    def checkout(self, payment_option):\n",
    "        if self.cart:\n",
    "            print(f\"Processing payment with {payment_option}. Your order is successfully placed!\")\n",
    "            self.cart.clear()  \n",
    "        else:\n",
    "            print(\"Your cart is empty. Add items to cart before checkout.\")\n"
   ]
  },
  {
   "cell_type": "code",
   "execution_count": 45,
   "id": "c9cf28c6-9253-4ea3-b37b-4d180c72b2d8",
   "metadata": {},
   "outputs": [],
   "source": [
    "class Admin:\n",
    "    def __init__(self, catalog):\n",
    "        self.catalog = catalog\n",
    "        self.database_admin = {'admin1': 'adminpass123', 'admin2': 'adminpass456'}\n",
    "\n",
    "    def login(self):\n",
    "        print(\"Welcome Admin\")\n",
    "        self.username = input('Please enter username: ')\n",
    "\n",
    "        if self.username not in self.database_admin:\n",
    "            print('Invalid username')\n",
    "            return\n",
    "\n",
    "        self.password = input('Please enter password: ')\n",
    "\n",
    "        if self.password == self.database_admin[self.username]:\n",
    "            print(\"Successful Login\")\n",
    "            self.show_menu()\n",
    "        else:\n",
    "            print('Incorrect password')\n",
    "\n",
    "    def show_menu(self):\n",
    "        while True:\n",
    "            print(\"\\n1) View Products\")\n",
    "            print(\"2) Add Product\")\n",
    "            print(\"3) Remove Product\")\n",
    "            print(\"4) Update Product\")\n",
    "            print(\"5) Logout\")\n",
    "            \n",
    "            choice = input(\"Choose an action: \")\n",
    "            if choice == '1':\n",
    "                self.catalog.view_products()\n",
    "            elif choice == '2':\n",
    "                self.add_product()\n",
    "            elif choice == '3':\n",
    "                self.remove_product()\n",
    "            elif choice == '4':\n",
    "                self.update_product()\n",
    "            elif choice == '5':\n",
    "                print(\"Logged out.\")\n",
    "                break\n",
    "            else:\n",
    "                print(\"Invalid choice!\")\n",
    "\n",
    "    def add_product(self):\n",
    "        category = input(\"Enter category: \")\n",
    "        product_id = input(\"Enter product ID: \")\n",
    "        name = input(\"Enter product name: \")\n",
    "        category_id = input(\"Enter category ID: \")\n",
    "        price = float(input(\"Enter price: \"))\n",
    "\n",
    "        product = {\n",
    "            'product_id': product_id,\n",
    "            'name': name,\n",
    "            'category_id': category_id,\n",
    "            'price': price\n",
    "        }\n",
    "\n",
    "        self.catalog.add_product(category, product)\n",
    "        print(f\"Product ID {product_id} added to category {category}.\")\n",
    "\n",
    "    def remove_product(self):\n",
    "        product_id = input(\"Enter product ID to remove: \")\n",
    "        if self.catalog.remove_product(product_id):\n",
    "            print(f\"Product ID {product_id} removed.\")\n",
    "        else:\n",
    "            print(\"Product ID not found.\")\n",
    "\n",
    "    def update_product(self):\n",
    "        product_id = input(\"Enter product ID to update: \")\n",
    "        if self.catalog.get_product(product_id):\n",
    "            print(\"Enter new values for the product (leave blank to keep current value):\")\n",
    "            name = input(\"New name: \")\n",
    "            category_id = input(\"New category ID: \")\n",
    "            price = input(\"New price: \")\n",
    "\n",
    "            updates = {}\n",
    "            if name:\n",
    "                updates['name'] = name\n",
    "            if category_id:\n",
    "                updates['category_id'] = category_id\n",
    "            if price:\n",
    "                updates['price'] = float(price)\n",
    "\n",
    "            if self.catalog.update_product(product_id, **updates):\n",
    "                print(f\"Product ID {product_id} updated.\")\n",
    "            else:\n",
    "                print(\"Product ID not found.\")\n",
    "        else:\n",
    "            print(\"Product ID not found.\")\n"
   ]
  },
  {
   "cell_type": "code",
   "execution_count": 47,
   "id": "98e4a9a5-4726-4d48-80a6-88da65f33497",
   "metadata": {},
   "outputs": [],
   "source": [
    "import random\n",
    "import string\n",
    "\n",
    "def generate_session_id(length=10):\n",
    "    \"\"\"Generate a random session ID.\"\"\"\n",
    "    characters = string.ascii_letters + string.digits\n",
    "    return ''.join(random.choice(characters) for _ in range(length))\n"
   ]
  },
  {
   "cell_type": "code",
   "execution_count": 49,
   "id": "71c557cc-1d94-4388-bdd4-a1b3296818c7",
   "metadata": {},
   "outputs": [],
   "source": [
    "catalog = Catalog()\n",
    "user_instance = User(catalog)"
   ]
  },
  {
   "cell_type": "code",
   "execution_count": 51,
   "id": "0b9bf280-1e8f-4262-bf01-3132e0aa758f",
   "metadata": {},
   "outputs": [],
   "source": [
    "catalog = Catalog()\n",
    "admin_instance = Admin(catalog)"
   ]
  },
  {
   "cell_type": "code",
   "execution_count": 53,
   "id": "c017a83a-0053-4fac-9ba3-5e7fdc865845",
   "metadata": {},
   "outputs": [
    {
     "name": "stdout",
     "output_type": "stream",
     "text": [
      "Welcome Admin\n"
     ]
    },
    {
     "name": "stdin",
     "output_type": "stream",
     "text": [
      "Please enter username:  admin1\n",
      "Please enter password:  adminpass123\n"
     ]
    },
    {
     "name": "stdout",
     "output_type": "stream",
     "text": [
      "Successful Login\n",
      "\n",
      "1) View Products\n",
      "2) Add Product\n",
      "3) Remove Product\n",
      "4) Update Product\n",
      "5) Logout\n"
     ]
    },
    {
     "name": "stdin",
     "output_type": "stream",
     "text": [
      "Choose an action:  1\n"
     ]
    },
    {
     "name": "stdout",
     "output_type": "stream",
     "text": [
      "Category: Boots\n",
      "  Product ID: B001\n",
      "  Name: Leather Boots\n",
      "  Category ID: C001\n",
      "  Price: $120.00\n",
      "\n",
      "  Product ID: B002\n",
      "  Name: Hiking Boots\n",
      "  Category ID: C001\n",
      "  Price: $85.00\n",
      "\n",
      "Category: Coats\n",
      "  Product ID: C001\n",
      "  Name: Winter Coat\n",
      "  Category ID: C002\n",
      "  Price: $150.00\n",
      "\n",
      "  Product ID: C002\n",
      "  Name: Rain Coat\n",
      "  Category ID: C002\n",
      "  Price: $95.00\n",
      "\n",
      "Category: Jackets\n",
      "  Product ID: J001\n",
      "  Name: Bomber Jacket\n",
      "  Category ID: C003\n",
      "  Price: $110.00\n",
      "\n",
      "  Product ID: J002\n",
      "  Name: Denim Jacket\n",
      "  Category ID: C003\n",
      "  Price: $75.00\n",
      "\n",
      "Category: Caps\n",
      "  Product ID: CAP001\n",
      "  Name: Baseball Cap\n",
      "  Category ID: C004\n",
      "  Price: $20.00\n",
      "\n",
      "  Product ID: CAP002\n",
      "  Name: Beanie\n",
      "  Category ID: C004\n",
      "  Price: $15.00\n",
      "\n",
      "\n",
      "1) View Products\n",
      "2) Add Product\n",
      "3) Remove Product\n",
      "4) Update Product\n",
      "5) Logout\n"
     ]
    },
    {
     "name": "stdin",
     "output_type": "stream",
     "text": [
      "Choose an action:  2\n",
      "Enter category:  Caps\n",
      "Enter product ID:  CAP003\n",
      "Enter product name:  Indian Cricket Fan Cap\n",
      "Enter category ID:  C004\n",
      "Enter price:  25\n"
     ]
    },
    {
     "name": "stdout",
     "output_type": "stream",
     "text": [
      "Product ID CAP003 added to category Caps.\n",
      "\n",
      "1) View Products\n",
      "2) Add Product\n",
      "3) Remove Product\n",
      "4) Update Product\n",
      "5) Logout\n"
     ]
    },
    {
     "name": "stdin",
     "output_type": "stream",
     "text": [
      "Choose an action:  1\n"
     ]
    },
    {
     "name": "stdout",
     "output_type": "stream",
     "text": [
      "Category: Boots\n",
      "  Product ID: B001\n",
      "  Name: Leather Boots\n",
      "  Category ID: C001\n",
      "  Price: $120.00\n",
      "\n",
      "  Product ID: B002\n",
      "  Name: Hiking Boots\n",
      "  Category ID: C001\n",
      "  Price: $85.00\n",
      "\n",
      "Category: Coats\n",
      "  Product ID: C001\n",
      "  Name: Winter Coat\n",
      "  Category ID: C002\n",
      "  Price: $150.00\n",
      "\n",
      "  Product ID: C002\n",
      "  Name: Rain Coat\n",
      "  Category ID: C002\n",
      "  Price: $95.00\n",
      "\n",
      "Category: Jackets\n",
      "  Product ID: J001\n",
      "  Name: Bomber Jacket\n",
      "  Category ID: C003\n",
      "  Price: $110.00\n",
      "\n",
      "  Product ID: J002\n",
      "  Name: Denim Jacket\n",
      "  Category ID: C003\n",
      "  Price: $75.00\n",
      "\n",
      "Category: Caps\n",
      "  Product ID: CAP001\n",
      "  Name: Baseball Cap\n",
      "  Category ID: C004\n",
      "  Price: $20.00\n",
      "\n",
      "  Product ID: CAP002\n",
      "  Name: Beanie\n",
      "  Category ID: C004\n",
      "  Price: $15.00\n",
      "\n",
      "  Product ID: CAP003\n",
      "  Name: Indian Cricket Fan Cap\n",
      "  Category ID: C004\n",
      "  Price: $25.00\n",
      "\n",
      "\n",
      "1) View Products\n",
      "2) Add Product\n",
      "3) Remove Product\n",
      "4) Update Product\n",
      "5) Logout\n"
     ]
    },
    {
     "name": "stdin",
     "output_type": "stream",
     "text": [
      "Choose an action:  3\n",
      "Enter product ID to remove:  CAP003\n"
     ]
    },
    {
     "name": "stdout",
     "output_type": "stream",
     "text": [
      "Product ID CAP003 removed.\n",
      "\n",
      "1) View Products\n",
      "2) Add Product\n",
      "3) Remove Product\n",
      "4) Update Product\n",
      "5) Logout\n"
     ]
    },
    {
     "name": "stdin",
     "output_type": "stream",
     "text": [
      "Choose an action:  1\n"
     ]
    },
    {
     "name": "stdout",
     "output_type": "stream",
     "text": [
      "Category: Boots\n",
      "  Product ID: B001\n",
      "  Name: Leather Boots\n",
      "  Category ID: C001\n",
      "  Price: $120.00\n",
      "\n",
      "  Product ID: B002\n",
      "  Name: Hiking Boots\n",
      "  Category ID: C001\n",
      "  Price: $85.00\n",
      "\n",
      "Category: Coats\n",
      "  Product ID: C001\n",
      "  Name: Winter Coat\n",
      "  Category ID: C002\n",
      "  Price: $150.00\n",
      "\n",
      "  Product ID: C002\n",
      "  Name: Rain Coat\n",
      "  Category ID: C002\n",
      "  Price: $95.00\n",
      "\n",
      "Category: Jackets\n",
      "  Product ID: J001\n",
      "  Name: Bomber Jacket\n",
      "  Category ID: C003\n",
      "  Price: $110.00\n",
      "\n",
      "  Product ID: J002\n",
      "  Name: Denim Jacket\n",
      "  Category ID: C003\n",
      "  Price: $75.00\n",
      "\n",
      "Category: Caps\n",
      "  Product ID: CAP001\n",
      "  Name: Baseball Cap\n",
      "  Category ID: C004\n",
      "  Price: $20.00\n",
      "\n",
      "  Product ID: CAP002\n",
      "  Name: Beanie\n",
      "  Category ID: C004\n",
      "  Price: $15.00\n",
      "\n",
      "\n",
      "1) View Products\n",
      "2) Add Product\n",
      "3) Remove Product\n",
      "4) Update Product\n",
      "5) Logout\n"
     ]
    },
    {
     "name": "stdin",
     "output_type": "stream",
     "text": [
      "Choose an action:  4\n",
      "Enter product ID to update:  CAP002\n"
     ]
    },
    {
     "name": "stdout",
     "output_type": "stream",
     "text": [
      "Enter new values for the product (leave blank to keep current value):\n"
     ]
    },
    {
     "name": "stdin",
     "output_type": "stream",
     "text": [
      "New name:  Superhero Beanie\n",
      "New category ID:  C004\n",
      "New price:  20\n"
     ]
    },
    {
     "name": "stdout",
     "output_type": "stream",
     "text": [
      "Product ID CAP002 updated.\n",
      "\n",
      "1) View Products\n",
      "2) Add Product\n",
      "3) Remove Product\n",
      "4) Update Product\n",
      "5) Logout\n"
     ]
    },
    {
     "name": "stdin",
     "output_type": "stream",
     "text": [
      "Choose an action:  1\n"
     ]
    },
    {
     "name": "stdout",
     "output_type": "stream",
     "text": [
      "Category: Boots\n",
      "  Product ID: B001\n",
      "  Name: Leather Boots\n",
      "  Category ID: C001\n",
      "  Price: $120.00\n",
      "\n",
      "  Product ID: B002\n",
      "  Name: Hiking Boots\n",
      "  Category ID: C001\n",
      "  Price: $85.00\n",
      "\n",
      "Category: Coats\n",
      "  Product ID: C001\n",
      "  Name: Winter Coat\n",
      "  Category ID: C002\n",
      "  Price: $150.00\n",
      "\n",
      "  Product ID: C002\n",
      "  Name: Rain Coat\n",
      "  Category ID: C002\n",
      "  Price: $95.00\n",
      "\n",
      "Category: Jackets\n",
      "  Product ID: J001\n",
      "  Name: Bomber Jacket\n",
      "  Category ID: C003\n",
      "  Price: $110.00\n",
      "\n",
      "  Product ID: J002\n",
      "  Name: Denim Jacket\n",
      "  Category ID: C003\n",
      "  Price: $75.00\n",
      "\n",
      "Category: Caps\n",
      "  Product ID: CAP001\n",
      "  Name: Baseball Cap\n",
      "  Category ID: C004\n",
      "  Price: $20.00\n",
      "\n",
      "  Product ID: CAP002\n",
      "  Name: Superhero Beanie\n",
      "  Category ID: C004\n",
      "  Price: $20.00\n",
      "\n",
      "\n",
      "1) View Products\n",
      "2) Add Product\n",
      "3) Remove Product\n",
      "4) Update Product\n",
      "5) Logout\n"
     ]
    },
    {
     "name": "stdin",
     "output_type": "stream",
     "text": [
      "Choose an action:  5\n"
     ]
    },
    {
     "name": "stdout",
     "output_type": "stream",
     "text": [
      "Logged out.\n"
     ]
    }
   ],
   "source": [
    "admin_instance.login()"
   ]
  },
  {
   "cell_type": "code",
   "execution_count": 55,
   "id": "370dcb47-bb53-4398-a35d-c37a8af6958e",
   "metadata": {},
   "outputs": [
    {
     "name": "stdout",
     "output_type": "stream",
     "text": [
      "Welcome to Demo Market Place\n"
     ]
    },
    {
     "name": "stdin",
     "output_type": "stream",
     "text": [
      "Please enter username:  user1\n",
      "Please enter password:  password123\n"
     ]
    },
    {
     "name": "stdout",
     "output_type": "stream",
     "text": [
      "Successful Login. Your session ID is: BzNHCMetcm\n",
      "\n",
      "1) View Products\n",
      "2) View Cart\n",
      "3) Add to Cart\n",
      "4) Remove from Cart\n",
      "5) Checkout\n",
      "6) Logout\n"
     ]
    },
    {
     "name": "stdin",
     "output_type": "stream",
     "text": [
      "Choose an action:  1\n"
     ]
    },
    {
     "name": "stdout",
     "output_type": "stream",
     "text": [
      "Category: Boots\n",
      "  Product ID: B001\n",
      "  Name: Leather Boots\n",
      "  Category ID: C001\n",
      "  Price: $120.00\n",
      "\n",
      "  Product ID: B002\n",
      "  Name: Hiking Boots\n",
      "  Category ID: C001\n",
      "  Price: $85.00\n",
      "\n",
      "Category: Coats\n",
      "  Product ID: C001\n",
      "  Name: Winter Coat\n",
      "  Category ID: C002\n",
      "  Price: $150.00\n",
      "\n",
      "  Product ID: C002\n",
      "  Name: Rain Coat\n",
      "  Category ID: C002\n",
      "  Price: $95.00\n",
      "\n",
      "Category: Jackets\n",
      "  Product ID: J001\n",
      "  Name: Bomber Jacket\n",
      "  Category ID: C003\n",
      "  Price: $110.00\n",
      "\n",
      "  Product ID: J002\n",
      "  Name: Denim Jacket\n",
      "  Category ID: C003\n",
      "  Price: $75.00\n",
      "\n",
      "Category: Caps\n",
      "  Product ID: CAP001\n",
      "  Name: Baseball Cap\n",
      "  Category ID: C004\n",
      "  Price: $20.00\n",
      "\n",
      "  Product ID: CAP002\n",
      "  Name: Beanie\n",
      "  Category ID: C004\n",
      "  Price: $15.00\n",
      "\n",
      "\n",
      "1) View Products\n",
      "2) View Cart\n",
      "3) Add to Cart\n",
      "4) Remove from Cart\n",
      "5) Checkout\n",
      "6) Logout\n"
     ]
    },
    {
     "name": "stdin",
     "output_type": "stream",
     "text": [
      "Choose an action:  2\n"
     ]
    },
    {
     "name": "stdout",
     "output_type": "stream",
     "text": [
      "Your cart is empty.\n",
      "\n",
      "1) View Products\n",
      "2) View Cart\n",
      "3) Add to Cart\n",
      "4) Remove from Cart\n",
      "5) Checkout\n",
      "6) Logout\n"
     ]
    },
    {
     "name": "stdin",
     "output_type": "stream",
     "text": [
      "Choose an action:  3\n",
      "Enter product ID to add:  C002\n",
      "Enter quantity:  2\n"
     ]
    },
    {
     "name": "stdout",
     "output_type": "stream",
     "text": [
      "Added 2 of product ID C002 to cart.\n",
      "Items in your cart:\n",
      "  Product ID: C002\n",
      "  Name: Rain Coat\n",
      "  Price: $95.00\n",
      "  Quantity: 2\n",
      "\n",
      "1) View Products\n",
      "2) View Cart\n",
      "3) Add to Cart\n",
      "4) Remove from Cart\n",
      "5) Checkout\n",
      "6) Logout\n"
     ]
    },
    {
     "name": "stdin",
     "output_type": "stream",
     "text": [
      "Choose an action:  2\n"
     ]
    },
    {
     "name": "stdout",
     "output_type": "stream",
     "text": [
      "Items in your cart:\n",
      "  Product ID: C002\n",
      "  Name: Rain Coat\n",
      "  Price: $95.00\n",
      "  Quantity: 2\n",
      "\n",
      "1) View Products\n",
      "2) View Cart\n",
      "3) Add to Cart\n",
      "4) Remove from Cart\n",
      "5) Checkout\n",
      "6) Logout\n"
     ]
    },
    {
     "name": "stdin",
     "output_type": "stream",
     "text": [
      "Choose an action:  3\n",
      "Enter product ID to add:  B002\n",
      "Enter quantity:  1\n"
     ]
    },
    {
     "name": "stdout",
     "output_type": "stream",
     "text": [
      "Added 1 of product ID B002 to cart.\n",
      "Items in your cart:\n",
      "  Product ID: C002\n",
      "  Name: Rain Coat\n",
      "  Price: $95.00\n",
      "  Quantity: 2\n",
      "  Product ID: B002\n",
      "  Name: Hiking Boots\n",
      "  Price: $85.00\n",
      "  Quantity: 1\n",
      "\n",
      "1) View Products\n",
      "2) View Cart\n",
      "3) Add to Cart\n",
      "4) Remove from Cart\n",
      "5) Checkout\n",
      "6) Logout\n"
     ]
    },
    {
     "name": "stdin",
     "output_type": "stream",
     "text": [
      "Choose an action:  2\n"
     ]
    },
    {
     "name": "stdout",
     "output_type": "stream",
     "text": [
      "Items in your cart:\n",
      "  Product ID: C002\n",
      "  Name: Rain Coat\n",
      "  Price: $95.00\n",
      "  Quantity: 2\n",
      "  Product ID: B002\n",
      "  Name: Hiking Boots\n",
      "  Price: $85.00\n",
      "  Quantity: 1\n",
      "\n",
      "1) View Products\n",
      "2) View Cart\n",
      "3) Add to Cart\n",
      "4) Remove from Cart\n",
      "5) Checkout\n",
      "6) Logout\n"
     ]
    },
    {
     "name": "stdin",
     "output_type": "stream",
     "text": [
      "Choose an action:  4\n",
      "Enter product ID to remove:  B002\n"
     ]
    },
    {
     "name": "stdout",
     "output_type": "stream",
     "text": [
      "Removed product ID B002 from cart.\n",
      "\n",
      "1) View Products\n",
      "2) View Cart\n",
      "3) Add to Cart\n",
      "4) Remove from Cart\n",
      "5) Checkout\n",
      "6) Logout\n"
     ]
    },
    {
     "name": "stdin",
     "output_type": "stream",
     "text": [
      "Choose an action:  2\n"
     ]
    },
    {
     "name": "stdout",
     "output_type": "stream",
     "text": [
      "Items in your cart:\n",
      "  Product ID: C002\n",
      "  Name: Rain Coat\n",
      "  Price: $95.00\n",
      "  Quantity: 2\n",
      "\n",
      "1) View Products\n",
      "2) View Cart\n",
      "3) Add to Cart\n",
      "4) Remove from Cart\n",
      "5) Checkout\n",
      "6) Logout\n"
     ]
    },
    {
     "name": "stdin",
     "output_type": "stream",
     "text": [
      "Choose an action:  5\n",
      "Choose payment option (Net banking/PayPal/UPI):  UPI\n"
     ]
    },
    {
     "name": "stdout",
     "output_type": "stream",
     "text": [
      "Processing payment with UPI. Your order is successfully placed!\n",
      "\n",
      "1) View Products\n",
      "2) View Cart\n",
      "3) Add to Cart\n",
      "4) Remove from Cart\n",
      "5) Checkout\n",
      "6) Logout\n"
     ]
    },
    {
     "name": "stdin",
     "output_type": "stream",
     "text": [
      "Choose an action:  6\n"
     ]
    },
    {
     "name": "stdout",
     "output_type": "stream",
     "text": [
      "Logged out.\n"
     ]
    }
   ],
   "source": [
    "user_instance.login()"
   ]
  }
 ],
 "metadata": {
  "kernelspec": {
   "display_name": "Python 3 (ipykernel)",
   "language": "python",
   "name": "python3"
  },
  "language_info": {
   "codemirror_mode": {
    "name": "ipython",
    "version": 3
   },
   "file_extension": ".py",
   "mimetype": "text/x-python",
   "name": "python",
   "nbconvert_exporter": "python",
   "pygments_lexer": "ipython3",
   "version": "3.12.4"
  }
 },
 "nbformat": 4,
 "nbformat_minor": 5
}
